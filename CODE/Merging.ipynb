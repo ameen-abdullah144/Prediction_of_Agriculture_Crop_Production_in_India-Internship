{
 "cells": [
  {
   "cell_type": "code",
   "execution_count": 1,
   "id": "e62f989b-75dd-40fd-b36a-6f9cf02a0321",
   "metadata": {},
   "outputs": [],
   "source": [
    "import pandas as pd\n",
    "import numpy as np\n",
    "import matplotlib.pyplot as plt\n",
    "import seaborn as sns\n"
   ]
  },
  {
   "cell_type": "code",
   "execution_count": 6,
   "id": "2e324b61-4814-447a-97f6-693189fd824a",
   "metadata": {},
   "outputs": [],
   "source": [
    "df = pd.read_csv('Datasets/datafile (3).csv')"
   ]
  },
  {
   "cell_type": "code",
   "execution_count": 8,
   "id": "1e5b9b54-c13b-4557-82fe-0a568eda892e",
   "metadata": {},
   "outputs": [
    {
     "data": {
      "text/html": [
       "<div>\n",
       "<style scoped>\n",
       "    .dataframe tbody tr th:only-of-type {\n",
       "        vertical-align: middle;\n",
       "    }\n",
       "\n",
       "    .dataframe tbody tr th {\n",
       "        vertical-align: top;\n",
       "    }\n",
       "\n",
       "    .dataframe thead th {\n",
       "        text-align: right;\n",
       "    }\n",
       "</style>\n",
       "<table border=\"1\" class=\"dataframe\">\n",
       "  <thead>\n",
       "    <tr style=\"text-align: right;\">\n",
       "      <th></th>\n",
       "      <th>Crop</th>\n",
       "      <th>Variety</th>\n",
       "      <th>Season/ duration in days</th>\n",
       "      <th>Recommended Zone</th>\n",
       "    </tr>\n",
       "  </thead>\n",
       "  <tbody>\n",
       "    <tr>\n",
       "      <th>0</th>\n",
       "      <td>Paddy</td>\n",
       "      <td>Chinsurah Rice (IET 19140)</td>\n",
       "      <td>150</td>\n",
       "      <td>Andhra Pradesh, Tamil Nadu, Gujarat, Orissa, W...</td>\n",
       "    </tr>\n",
       "    <tr>\n",
       "      <th>1</th>\n",
       "      <td>Paddy</td>\n",
       "      <td>(CNI 383-5-11)</td>\n",
       "      <td>144</td>\n",
       "      <td>NaN</td>\n",
       "    </tr>\n",
       "    <tr>\n",
       "      <th>2</th>\n",
       "      <td>Paddy</td>\n",
       "      <td>IGKVR-1 (IET 19569)</td>\n",
       "      <td>110</td>\n",
       "      <td>Chhattisgarh, Madhya Pradesh, Orissa</td>\n",
       "    </tr>\n",
       "    <tr>\n",
       "      <th>3</th>\n",
       "      <td>Paddy</td>\n",
       "      <td>IGKVR-2 (IET 19795)</td>\n",
       "      <td>150</td>\n",
       "      <td>Chhattisgarh, Bihar, Orissa</td>\n",
       "    </tr>\n",
       "    <tr>\n",
       "      <th>4</th>\n",
       "      <td>Paddy</td>\n",
       "      <td>CR Dhan 401 (REETA)</td>\n",
       "      <td>148</td>\n",
       "      <td>Orissa, West Bengal, Tamil Nadu, Andhra Pradesh</td>\n",
       "    </tr>\n",
       "  </tbody>\n",
       "</table>\n",
       "</div>"
      ],
      "text/plain": [
       "    Crop                     Variety  Season/ duration in days  \\\n",
       "0  Paddy  Chinsurah Rice (IET 19140)                       150   \n",
       "1  Paddy              (CNI 383-5-11)                       144   \n",
       "2  Paddy         IGKVR-1 (IET 19569)                       110   \n",
       "3  Paddy         IGKVR-2 (IET 19795)                       150   \n",
       "4  Paddy         CR Dhan 401 (REETA)                       148   \n",
       "\n",
       "                                    Recommended Zone  \n",
       "0  Andhra Pradesh, Tamil Nadu, Gujarat, Orissa, W...  \n",
       "1                                                NaN  \n",
       "2               Chhattisgarh, Madhya Pradesh, Orissa  \n",
       "3                        Chhattisgarh, Bihar, Orissa  \n",
       "4    Orissa, West Bengal, Tamil Nadu, Andhra Pradesh  "
      ]
     },
     "execution_count": 8,
     "metadata": {},
     "output_type": "execute_result"
    }
   ],
   "source": [
    "df.head()\n"
   ]
  },
  {
   "cell_type": "code",
   "execution_count": 10,
   "id": "388772df-6fbe-423c-ad01-6a3008cfbe72",
   "metadata": {},
   "outputs": [
    {
     "data": {
      "text/plain": [
       "78"
      ]
     },
     "execution_count": 10,
     "metadata": {},
     "output_type": "execute_result"
    }
   ],
   "source": [
    "len(df['Variety'].unique())"
   ]
  },
  {
   "cell_type": "code",
   "execution_count": 12,
   "id": "3e2523ce-b918-4438-a78e-4e69d796286c",
   "metadata": {},
   "outputs": [
    {
     "data": {
      "text/plain": [
       "Crop                        0\n",
       "Variety                     0\n",
       "Season/ duration in days    0\n",
       "Recommended Zone            1\n",
       "dtype: int64"
      ]
     },
     "execution_count": 12,
     "metadata": {},
     "output_type": "execute_result"
    }
   ],
   "source": [
    "df.isnull().sum()"
   ]
  },
  {
   "cell_type": "code",
   "execution_count": 14,
   "id": "25a065af-d0e6-4271-b261-3a5752ffe291",
   "metadata": {},
   "outputs": [],
   "source": [
    "fdf=pd.DataFrame()"
   ]
  },
  {
   "cell_type": "code",
   "execution_count": 16,
   "id": "bd646240-2480-41da-a53c-9e31e438a573",
   "metadata": {},
   "outputs": [],
   "source": [
    "#adding Crops\n",
    "fdf['Crop']=df['Crop']\n",
    "#adding Variety\n",
    "fdf['Variety']=df['Variety']\n",
    "#adding the State list\n",
    "fdf['State'] = df['Recommended Zone'].str.split(',')\n",
    "fdf['State'][0][0]\n",
    "#Season/ duration in days\n",
    "fdf['Duration in days'] = df['Season/ duration in days']"
   ]
  },
  {
   "cell_type": "code",
   "execution_count": 18,
   "id": "0a3cf478-353c-4696-a1fd-a83895ccf3b6",
   "metadata": {},
   "outputs": [],
   "source": [
    "fdf['State']=fdf['State'].fillna(fdf['State'].mode())"
   ]
  },
  {
   "cell_type": "code",
   "execution_count": 20,
   "id": "2201fcd0-3f0e-4058-9e4b-7f43c5b256b5",
   "metadata": {},
   "outputs": [
    {
     "data": {
      "text/html": [
       "<div>\n",
       "<style scoped>\n",
       "    .dataframe tbody tr th:only-of-type {\n",
       "        vertical-align: middle;\n",
       "    }\n",
       "\n",
       "    .dataframe tbody tr th {\n",
       "        vertical-align: top;\n",
       "    }\n",
       "\n",
       "    .dataframe thead th {\n",
       "        text-align: right;\n",
       "    }\n",
       "</style>\n",
       "<table border=\"1\" class=\"dataframe\">\n",
       "  <thead>\n",
       "    <tr style=\"text-align: right;\">\n",
       "      <th></th>\n",
       "      <th>Crop</th>\n",
       "      <th>Variety</th>\n",
       "      <th>State</th>\n",
       "      <th>Duration in days</th>\n",
       "    </tr>\n",
       "  </thead>\n",
       "  <tbody>\n",
       "    <tr>\n",
       "      <th>0</th>\n",
       "      <td>Paddy</td>\n",
       "      <td>Chinsurah Rice (IET 19140)</td>\n",
       "      <td>[Andhra Pradesh,  Tamil Nadu,  Gujarat,  Oriss...</td>\n",
       "      <td>150</td>\n",
       "    </tr>\n",
       "    <tr>\n",
       "      <th>1</th>\n",
       "      <td>Paddy</td>\n",
       "      <td>(CNI 383-5-11)</td>\n",
       "      <td>[Himachal Pradesh,  Uttarakhand,  Jammu And Ka...</td>\n",
       "      <td>144</td>\n",
       "    </tr>\n",
       "    <tr>\n",
       "      <th>2</th>\n",
       "      <td>Paddy</td>\n",
       "      <td>IGKVR-1 (IET 19569)</td>\n",
       "      <td>[Chhattisgarh,  Madhya Pradesh,  Orissa]</td>\n",
       "      <td>110</td>\n",
       "    </tr>\n",
       "    <tr>\n",
       "      <th>3</th>\n",
       "      <td>Paddy</td>\n",
       "      <td>IGKVR-2 (IET 19795)</td>\n",
       "      <td>[Chhattisgarh,  Bihar,  Orissa]</td>\n",
       "      <td>150</td>\n",
       "    </tr>\n",
       "    <tr>\n",
       "      <th>4</th>\n",
       "      <td>Paddy</td>\n",
       "      <td>CR Dhan 401 (REETA)</td>\n",
       "      <td>[Orissa,  West Bengal,  Tamil Nadu,  Andhra Pr...</td>\n",
       "      <td>148</td>\n",
       "    </tr>\n",
       "  </tbody>\n",
       "</table>\n",
       "</div>"
      ],
      "text/plain": [
       "    Crop                     Variety  \\\n",
       "0  Paddy  Chinsurah Rice (IET 19140)   \n",
       "1  Paddy              (CNI 383-5-11)   \n",
       "2  Paddy         IGKVR-1 (IET 19569)   \n",
       "3  Paddy         IGKVR-2 (IET 19795)   \n",
       "4  Paddy         CR Dhan 401 (REETA)   \n",
       "\n",
       "                                               State  Duration in days  \n",
       "0  [Andhra Pradesh,  Tamil Nadu,  Gujarat,  Oriss...               150  \n",
       "1  [Himachal Pradesh,  Uttarakhand,  Jammu And Ka...               144  \n",
       "2           [Chhattisgarh,  Madhya Pradesh,  Orissa]               110  \n",
       "3                    [Chhattisgarh,  Bihar,  Orissa]               150  \n",
       "4  [Orissa,  West Bengal,  Tamil Nadu,  Andhra Pr...               148  "
      ]
     },
     "execution_count": 20,
     "metadata": {},
     "output_type": "execute_result"
    }
   ],
   "source": [
    "fdf.head()\n",
    "#fdf.to_csv('recomended_df.csv', index=False)"
   ]
  },
  {
   "cell_type": "code",
   "execution_count": null,
   "id": "737dc82d-e1d4-431c-b6aa-a9d38dfa554f",
   "metadata": {},
   "outputs": [],
   "source": []
  },
  {
   "cell_type": "code",
   "execution_count": 23,
   "id": "7ecc3111-6c8e-40bc-8c31-14d67268298d",
   "metadata": {},
   "outputs": [
    {
     "name": "stdout",
     "output_type": "stream",
     "text": [
      "Himachal Pradesh,  Uttarakhand,  Jammu And Kashmir,  Arunachal Pradesh,  Assam,  Manipur,  Meghalaya,  Mizoram,  Nagaland,  Sikkim,  Tripura, "
     ]
    }
   ],
   "source": [
    "for i in fdf['State'][1]:\n",
    "    print (i,end=', ') \n",
    "fdf=fdf.explode('State')"
   ]
  },
  {
   "cell_type": "code",
   "execution_count": 25,
   "id": "6eadb65a-81ee-43b2-b765-3334755fb1ba",
   "metadata": {},
   "outputs": [
    {
     "data": {
      "text/html": [
       "<div>\n",
       "<style scoped>\n",
       "    .dataframe tbody tr th:only-of-type {\n",
       "        vertical-align: middle;\n",
       "    }\n",
       "\n",
       "    .dataframe tbody tr th {\n",
       "        vertical-align: top;\n",
       "    }\n",
       "\n",
       "    .dataframe thead th {\n",
       "        text-align: right;\n",
       "    }\n",
       "</style>\n",
       "<table border=\"1\" class=\"dataframe\">\n",
       "  <thead>\n",
       "    <tr style=\"text-align: right;\">\n",
       "      <th></th>\n",
       "      <th>Crop</th>\n",
       "      <th>Variety</th>\n",
       "      <th>State</th>\n",
       "      <th>Duration in days</th>\n",
       "    </tr>\n",
       "  </thead>\n",
       "  <tbody>\n",
       "    <tr>\n",
       "      <th>0</th>\n",
       "      <td>Paddy</td>\n",
       "      <td>Chinsurah Rice (IET 19140)</td>\n",
       "      <td>Andhra Pradesh</td>\n",
       "      <td>150</td>\n",
       "    </tr>\n",
       "    <tr>\n",
       "      <th>0</th>\n",
       "      <td>Paddy</td>\n",
       "      <td>Chinsurah Rice (IET 19140)</td>\n",
       "      <td>Tamil Nadu</td>\n",
       "      <td>150</td>\n",
       "    </tr>\n",
       "    <tr>\n",
       "      <th>0</th>\n",
       "      <td>Paddy</td>\n",
       "      <td>Chinsurah Rice (IET 19140)</td>\n",
       "      <td>Gujarat</td>\n",
       "      <td>150</td>\n",
       "    </tr>\n",
       "    <tr>\n",
       "      <th>0</th>\n",
       "      <td>Paddy</td>\n",
       "      <td>Chinsurah Rice (IET 19140)</td>\n",
       "      <td>Orissa</td>\n",
       "      <td>150</td>\n",
       "    </tr>\n",
       "    <tr>\n",
       "      <th>0</th>\n",
       "      <td>Paddy</td>\n",
       "      <td>Chinsurah Rice (IET 19140)</td>\n",
       "      <td>West Bengal</td>\n",
       "      <td>150</td>\n",
       "    </tr>\n",
       "  </tbody>\n",
       "</table>\n",
       "</div>"
      ],
      "text/plain": [
       "    Crop                     Variety           State  Duration in days\n",
       "0  Paddy  Chinsurah Rice (IET 19140)  Andhra Pradesh               150\n",
       "0  Paddy  Chinsurah Rice (IET 19140)      Tamil Nadu               150\n",
       "0  Paddy  Chinsurah Rice (IET 19140)         Gujarat               150\n",
       "0  Paddy  Chinsurah Rice (IET 19140)          Orissa               150\n",
       "0  Paddy  Chinsurah Rice (IET 19140)     West Bengal               150"
      ]
     },
     "execution_count": 25,
     "metadata": {},
     "output_type": "execute_result"
    }
   ],
   "source": [
    "fdf.head()"
   ]
  },
  {
   "cell_type": "code",
   "execution_count": 27,
   "id": "b65ff1c8-2f39-45fd-8d4e-c398877fd943",
   "metadata": {},
   "outputs": [],
   "source": [
    "# List of crops to keep\n",
    "valid_crops = [\n",
    "    \"Paddy\", \"Wheat\", \"Maize\", \"Barley\", \"Pearl Millet\",\n",
    "    \"Finger Millet\", \"Bengal Gram\", \"Indian Mustard\",\n",
    "    \"Groundnut\", \"Sugarcane\", \"Cotton\", \"Jute\", \"Mesta\"\n",
    "]\n",
    "\n",
    "# Filter rows where the crop is in the valid_crops list\n",
    "filtered_df = fdf[fdf['Crop'].isin(valid_crops)]\n"
   ]
  },
  {
   "cell_type": "code",
   "execution_count": 29,
   "id": "778de37b-53af-422a-900e-d2e825291d13",
   "metadata": {},
   "outputs": [
    {
     "data": {
      "text/html": [
       "<div>\n",
       "<style scoped>\n",
       "    .dataframe tbody tr th:only-of-type {\n",
       "        vertical-align: middle;\n",
       "    }\n",
       "\n",
       "    .dataframe tbody tr th {\n",
       "        vertical-align: top;\n",
       "    }\n",
       "\n",
       "    .dataframe thead th {\n",
       "        text-align: right;\n",
       "    }\n",
       "</style>\n",
       "<table border=\"1\" class=\"dataframe\">\n",
       "  <thead>\n",
       "    <tr style=\"text-align: right;\">\n",
       "      <th></th>\n",
       "      <th>Crop</th>\n",
       "      <th>Variety</th>\n",
       "      <th>State</th>\n",
       "      <th>Duration in days</th>\n",
       "    </tr>\n",
       "  </thead>\n",
       "  <tbody>\n",
       "    <tr>\n",
       "      <th>0</th>\n",
       "      <td>Paddy</td>\n",
       "      <td>Chinsurah Rice (IET 19140)</td>\n",
       "      <td>Andhra Pradesh</td>\n",
       "      <td>150</td>\n",
       "    </tr>\n",
       "    <tr>\n",
       "      <th>0</th>\n",
       "      <td>Paddy</td>\n",
       "      <td>Chinsurah Rice (IET 19140)</td>\n",
       "      <td>Tamil Nadu</td>\n",
       "      <td>150</td>\n",
       "    </tr>\n",
       "    <tr>\n",
       "      <th>0</th>\n",
       "      <td>Paddy</td>\n",
       "      <td>Chinsurah Rice (IET 19140)</td>\n",
       "      <td>Gujarat</td>\n",
       "      <td>150</td>\n",
       "    </tr>\n",
       "    <tr>\n",
       "      <th>0</th>\n",
       "      <td>Paddy</td>\n",
       "      <td>Chinsurah Rice (IET 19140)</td>\n",
       "      <td>Orissa</td>\n",
       "      <td>150</td>\n",
       "    </tr>\n",
       "    <tr>\n",
       "      <th>0</th>\n",
       "      <td>Paddy</td>\n",
       "      <td>Chinsurah Rice (IET 19140)</td>\n",
       "      <td>West Bengal</td>\n",
       "      <td>150</td>\n",
       "    </tr>\n",
       "  </tbody>\n",
       "</table>\n",
       "</div>"
      ],
      "text/plain": [
       "    Crop                     Variety           State  Duration in days\n",
       "0  Paddy  Chinsurah Rice (IET 19140)  Andhra Pradesh               150\n",
       "0  Paddy  Chinsurah Rice (IET 19140)      Tamil Nadu               150\n",
       "0  Paddy  Chinsurah Rice (IET 19140)         Gujarat               150\n",
       "0  Paddy  Chinsurah Rice (IET 19140)          Orissa               150\n",
       "0  Paddy  Chinsurah Rice (IET 19140)     West Bengal               150"
      ]
     },
     "execution_count": 29,
     "metadata": {},
     "output_type": "execute_result"
    }
   ],
   "source": [
    "filtered_df.head()\n"
   ]
  },
  {
   "cell_type": "code",
   "execution_count": 31,
   "id": "f92f2c69-ed65-4036-bb5a-a8f5ffc8aa2f",
   "metadata": {},
   "outputs": [
    {
     "data": {
      "text/plain": [
       "(277, 4)"
      ]
     },
     "execution_count": 31,
     "metadata": {},
     "output_type": "execute_result"
    }
   ],
   "source": [
    "filtered_df.shape"
   ]
  },
  {
   "cell_type": "code",
   "execution_count": 33,
   "id": "e90f7c47-aa8b-4023-91b0-5eee96170053",
   "metadata": {},
   "outputs": [
    {
     "name": "stdout",
     "output_type": "stream",
     "text": [
      "<class 'pandas.core.frame.DataFrame'>\n",
      "Index: 277 entries, 0 to 77\n",
      "Data columns (total 4 columns):\n",
      " #   Column            Non-Null Count  Dtype \n",
      "---  ------            --------------  ----- \n",
      " 0   Crop              277 non-null    object\n",
      " 1   Variety           277 non-null    object\n",
      " 2   State             277 non-null    object\n",
      " 3   Duration in days  277 non-null    int64 \n",
      "dtypes: int64(1), object(3)\n",
      "memory usage: 10.8+ KB\n"
     ]
    }
   ],
   "source": [
    "filtered_df.info()"
   ]
  },
  {
   "cell_type": "code",
   "execution_count": null,
   "id": "ce54ef11-999d-4819-809d-ee418d4ec663",
   "metadata": {},
   "outputs": [],
   "source": []
  },
  {
   "cell_type": "code",
   "execution_count": 36,
   "id": "d1cb673c-0d0d-4f6a-84b2-338111a555b4",
   "metadata": {},
   "outputs": [
    {
     "data": {
      "text/plain": [
       "Index(['Crop', 'State', 'Cost of Cultivation (`/Hectare) A2+FL',\n",
       "       'Cost of Cultivation (`/Hectare) C2',\n",
       "       'Cost of Production (`/Quintal) C2', 'Yield (Quintal/ Hectare) '],\n",
       "      dtype='object')"
      ]
     },
     "execution_count": 36,
     "metadata": {},
     "output_type": "execute_result"
    }
   ],
   "source": [
    "#inserting the column\n",
    "df1=pd.read_csv(\"Datasets/datafile (1).csv\")\n",
    "df1['Crop'].unique()\n",
    "df1.columns"
   ]
  },
  {
   "cell_type": "code",
   "execution_count": null,
   "id": "7cca741e-3dec-4cb9-9161-c05ed5609130",
   "metadata": {},
   "outputs": [],
   "source": []
  },
  {
   "cell_type": "code",
   "execution_count": 39,
   "id": "348f2f03-0db7-4406-ac94-2a951208a07d",
   "metadata": {},
   "outputs": [
    {
     "data": {
      "text/html": [
       "<div>\n",
       "<style scoped>\n",
       "    .dataframe tbody tr th:only-of-type {\n",
       "        vertical-align: middle;\n",
       "    }\n",
       "\n",
       "    .dataframe tbody tr th {\n",
       "        vertical-align: top;\n",
       "    }\n",
       "\n",
       "    .dataframe thead th {\n",
       "        text-align: right;\n",
       "    }\n",
       "</style>\n",
       "<table border=\"1\" class=\"dataframe\">\n",
       "  <thead>\n",
       "    <tr style=\"text-align: right;\">\n",
       "      <th></th>\n",
       "      <th>Crop</th>\n",
       "      <th>Variety</th>\n",
       "      <th>State</th>\n",
       "      <th>Duration in days</th>\n",
       "    </tr>\n",
       "  </thead>\n",
       "  <tbody>\n",
       "    <tr>\n",
       "      <th>0</th>\n",
       "      <td>Paddy</td>\n",
       "      <td>Chinsurah Rice (IET 19140)</td>\n",
       "      <td>Andhra Pradesh</td>\n",
       "      <td>150</td>\n",
       "    </tr>\n",
       "    <tr>\n",
       "      <th>0</th>\n",
       "      <td>Paddy</td>\n",
       "      <td>Chinsurah Rice (IET 19140)</td>\n",
       "      <td>Tamil Nadu</td>\n",
       "      <td>150</td>\n",
       "    </tr>\n",
       "    <tr>\n",
       "      <th>0</th>\n",
       "      <td>Paddy</td>\n",
       "      <td>Chinsurah Rice (IET 19140)</td>\n",
       "      <td>Gujarat</td>\n",
       "      <td>150</td>\n",
       "    </tr>\n",
       "    <tr>\n",
       "      <th>0</th>\n",
       "      <td>Paddy</td>\n",
       "      <td>Chinsurah Rice (IET 19140)</td>\n",
       "      <td>Orissa</td>\n",
       "      <td>150</td>\n",
       "    </tr>\n",
       "    <tr>\n",
       "      <th>0</th>\n",
       "      <td>Paddy</td>\n",
       "      <td>Chinsurah Rice (IET 19140)</td>\n",
       "      <td>West Bengal</td>\n",
       "      <td>150</td>\n",
       "    </tr>\n",
       "  </tbody>\n",
       "</table>\n",
       "</div>"
      ],
      "text/plain": [
       "    Crop                     Variety           State  Duration in days\n",
       "0  Paddy  Chinsurah Rice (IET 19140)  Andhra Pradesh               150\n",
       "0  Paddy  Chinsurah Rice (IET 19140)      Tamil Nadu               150\n",
       "0  Paddy  Chinsurah Rice (IET 19140)         Gujarat               150\n",
       "0  Paddy  Chinsurah Rice (IET 19140)          Orissa               150\n",
       "0  Paddy  Chinsurah Rice (IET 19140)     West Bengal               150"
      ]
     },
     "execution_count": 39,
     "metadata": {},
     "output_type": "execute_result"
    }
   ],
   "source": [
    "filtered_df.head()"
   ]
  },
  {
   "cell_type": "code",
   "execution_count": null,
   "id": "d50f4818-b842-4836-bc21-72a2c857afca",
   "metadata": {},
   "outputs": [],
   "source": []
  },
  {
   "cell_type": "code",
   "execution_count": 42,
   "id": "21ebcc27-e4c7-427b-b657-df6719ca2d0a",
   "metadata": {},
   "outputs": [],
   "source": [
    "#df1_exploded = filtered_df.explode('State')"
   ]
  },
  {
   "cell_type": "code",
   "execution_count": 44,
   "id": "8961c452-df63-4333-91f7-793dc4e1798f",
   "metadata": {},
   "outputs": [],
   "source": [
    "merged_df = pd.merge(filtered_df, df1[['Crop', 'State', 'Cost of Cultivation (`/Hectare) C2']], on=['Crop', 'State'], how='left') \n",
    "\n",
    "# Rename the 'Cost of Cultivation (₹/Hectare) C2' column to 'cost' "
   ]
  },
  {
   "cell_type": "code",
   "execution_count": 46,
   "id": "ee8cd022-8998-43c2-9cbe-4488af280c16",
   "metadata": {},
   "outputs": [],
   "source": [
    "# Rename the 'Cost of Cultivation (₹/Hectare) C2' column to 'cost' \n",
    "merged_df.rename(columns={'Cost of Cultivation (`/Hectare) C2': 'Cost'}, inplace=True)"
   ]
  },
  {
   "cell_type": "code",
   "execution_count": 48,
   "id": "343e4e6a-aded-4d3e-948b-ba3c486a920a",
   "metadata": {},
   "outputs": [
    {
     "name": "stdout",
     "output_type": "stream",
     "text": [
      "<class 'pandas.core.frame.DataFrame'>\n",
      "RangeIndex: 277 entries, 0 to 276\n",
      "Data columns (total 5 columns):\n",
      " #   Column            Non-Null Count  Dtype  \n",
      "---  ------            --------------  -----  \n",
      " 0   Crop              277 non-null    object \n",
      " 1   Variety           277 non-null    object \n",
      " 2   State             277 non-null    object \n",
      " 3   Duration in days  277 non-null    int64  \n",
      " 4   Cost              24 non-null     float64\n",
      "dtypes: float64(1), int64(1), object(3)\n",
      "memory usage: 10.9+ KB\n"
     ]
    }
   ],
   "source": [
    "merged_df.info()"
   ]
  },
  {
   "cell_type": "code",
   "execution_count": 50,
   "id": "c1143696-ac95-4889-8f55-c41513040122",
   "metadata": {},
   "outputs": [
    {
     "name": "stdout",
     "output_type": "stream",
     "text": [
      "There are NaN or invalid values in the 'Cost' column.\n"
     ]
    }
   ],
   "source": [
    "merged_df['Cost'] = pd.to_numeric(merged_df['Cost'], errors='coerce')\n",
    "if merged_df['Cost'].isna().any():\n",
    "    print(\"There are NaN or invalid values in the 'Cost' column.\")"
   ]
  },
  {
   "cell_type": "code",
   "execution_count": 52,
   "id": "abcfe99a-cb3e-4028-ab18-a42e0055cf54",
   "metadata": {},
   "outputs": [
    {
     "name": "stdout",
     "output_type": "stream",
     "text": [
      "       Crop                     Variety             State  Duration in days  \\\n",
      "1     Paddy  Chinsurah Rice (IET 19140)        Tamil Nadu               150   \n",
      "2     Paddy  Chinsurah Rice (IET 19140)           Gujarat               150   \n",
      "3     Paddy  Chinsurah Rice (IET 19140)            Orissa               150   \n",
      "4     Paddy  Chinsurah Rice (IET 19140)       West Bengal               150   \n",
      "5     Paddy              (CNI 383-5-11)  Himachal Pradesh               144   \n",
      "..      ...                         ...               ...               ...   \n",
      "271  Cotton                   VBCH 2231           Gujarat               157   \n",
      "272  Cotton                   VBCH 2231    Madhya Pradesh               157   \n",
      "273  Cotton                   VBCH 2231            Orissa               157   \n",
      "275  Cotton                     FDK 124           Haryana               158   \n",
      "276  Cotton                     FDK 124         Rajasthan               158   \n",
      "\n",
      "     Cost  \n",
      "1     NaN  \n",
      "2     NaN  \n",
      "3     NaN  \n",
      "4     NaN  \n",
      "5     NaN  \n",
      "..    ...  \n",
      "271   NaN  \n",
      "272   NaN  \n",
      "273   NaN  \n",
      "275   NaN  \n",
      "276   NaN  \n",
      "\n",
      "[253 rows x 5 columns]\n"
     ]
    }
   ],
   "source": [
    "invalid_rows = merged_df[merged_df['Cost'].isna()]\n",
    "print(invalid_rows)"
   ]
  },
  {
   "cell_type": "code",
   "execution_count": 54,
   "id": "89ed6e59-6797-4b38-8f65-c71c5367a6a5",
   "metadata": {},
   "outputs": [],
   "source": [
    "# Calculate the mean cost for each crop \n",
    "mean_costs = merged_df.groupby('Crop')['Cost'].transform('mean') \n",
    "# Fill NaN values with the mean cost for the same crop \n",
    "merged_df['Cost'] = merged_df['Cost'].fillna(mean_costs)"
   ]
  },
  {
   "cell_type": "code",
   "execution_count": 56,
   "id": "093884e7-d49e-4822-a226-3e8e09d0e969",
   "metadata": {
    "scrolled": true
   },
   "outputs": [
    {
     "name": "stdout",
     "output_type": "stream",
     "text": [
      "<class 'pandas.core.frame.DataFrame'>\n",
      "RangeIndex: 277 entries, 0 to 276\n",
      "Data columns (total 5 columns):\n",
      " #   Column            Non-Null Count  Dtype  \n",
      "---  ------            --------------  -----  \n",
      " 0   Crop              277 non-null    object \n",
      " 1   Variety           277 non-null    object \n",
      " 2   State             277 non-null    object \n",
      " 3   Duration in days  277 non-null    int64  \n",
      " 4   Cost              198 non-null    float64\n",
      "dtypes: float64(1), int64(1), object(3)\n",
      "memory usage: 10.9+ KB\n"
     ]
    }
   ],
   "source": [
    "merged_df.info()"
   ]
  },
  {
   "cell_type": "code",
   "execution_count": 58,
   "id": "9cf20270-1a06-4810-806d-3f7e8459951d",
   "metadata": {},
   "outputs": [
    {
     "data": {
      "text/plain": [
       "array([46450.2  , 31603.2  , 25909.05 , 28144.5  , 22489.75 , 31428.438,\n",
       "       35423.48 , 31902.74 ,       nan, 26094.56 , 20671.54 , 37801.85 ,\n",
       "       19810.29 , 19259.84 , 21735.185, 22560.3  , 17314.2  , 16873.17 ,\n",
       "       17776.25 , 18679.33 , 89025.27 , 42070.44 , 44211.23 , 50828.83 ,\n",
       "       33116.82 ])"
      ]
     },
     "execution_count": 58,
     "metadata": {},
     "output_type": "execute_result"
    }
   ],
   "source": [
    "merged_df['Cost'].unique()"
   ]
  },
  {
   "cell_type": "code",
   "execution_count": null,
   "id": "b2a2e991-e85a-4f05-bf2a-d65f4024b571",
   "metadata": {},
   "outputs": [],
   "source": []
  },
  {
   "cell_type": "code",
   "execution_count": 61,
   "id": "ebe80c0b-edc6-4f30-9315-80a846c4b2b3",
   "metadata": {},
   "outputs": [
    {
     "name": "stdout",
     "output_type": "stream",
     "text": [
      "<class 'pandas.core.frame.DataFrame'>\n",
      "RangeIndex: 277 entries, 0 to 276\n",
      "Data columns (total 5 columns):\n",
      " #   Column            Non-Null Count  Dtype  \n",
      "---  ------            --------------  -----  \n",
      " 0   Crop              277 non-null    object \n",
      " 1   Variety           277 non-null    object \n",
      " 2   State             277 non-null    object \n",
      " 3   Duration in days  277 non-null    int64  \n",
      " 4   Cost              198 non-null    float64\n",
      "dtypes: float64(1), int64(1), object(3)\n",
      "memory usage: 10.9+ KB\n"
     ]
    }
   ],
   "source": [
    "merged_df.info()"
   ]
  },
  {
   "cell_type": "code",
   "execution_count": 63,
   "id": "7cf0131f-093d-4e17-bbab-a08ccd6042bf",
   "metadata": {
    "scrolled": true
   },
   "outputs": [
    {
     "name": "stdout",
     "output_type": "stream",
     "text": [
      "       Crop           Variety            State  Duration in days  Cost\n",
      "93   Barley            BH-902           Punjab               130   NaN\n",
      "94   Barley            BH-902          Haryana               130   NaN\n",
      "95   Barley            BH-902    Uttar Pradesh               130   NaN\n",
      "96   Barley            BH-902            Delhi               130   NaN\n",
      "97   Barley            BH-902        Rajasthan               130   NaN\n",
      "..      ...               ...              ...               ...   ...\n",
      "259   Mesta  SHRESTHA (JRM-5)           Orissa               134   NaN\n",
      "260   Mesta  SHRESTHA (JRM-5)            Assam               134   NaN\n",
      "261   Mesta  SHRESTHA (JRM-5)      Maharashtra               134   NaN\n",
      "262   Mesta  SHRESTHA (JRM-5)            Bihar               134   NaN\n",
      "263   Mesta  SHRESTHA (JRM-5)      West Bengal               134   NaN\n",
      "\n",
      "[79 rows x 5 columns]\n"
     ]
    }
   ],
   "source": [
    "invalid_rows = merged_df[merged_df['Cost'].isna()]\n",
    "print(invalid_rows)"
   ]
  },
  {
   "cell_type": "code",
   "execution_count": 65,
   "id": "fbe8977a-27d8-47f6-9419-97761564de4c",
   "metadata": {},
   "outputs": [
    {
     "name": "stdout",
     "output_type": "stream",
     "text": [
      "<class 'pandas.core.frame.DataFrame'>\n",
      "RangeIndex: 277 entries, 0 to 276\n",
      "Data columns (total 5 columns):\n",
      " #   Column            Non-Null Count  Dtype  \n",
      "---  ------            --------------  -----  \n",
      " 0   Crop              277 non-null    object \n",
      " 1   Variety           277 non-null    object \n",
      " 2   State             277 non-null    object \n",
      " 3   Duration in days  277 non-null    int64  \n",
      " 4   Cost              277 non-null    float64\n",
      "dtypes: float64(1), int64(1), object(3)\n",
      "memory usage: 10.9+ KB\n"
     ]
    }
   ],
   "source": [
    "overall_mean = merged_df['Cost'].mean()\n",
    "merged_df['Cost'] = merged_df['Cost'].fillna(overall_mean)\n",
    "merged_df.info()"
   ]
  },
  {
   "cell_type": "markdown",
   "id": "a147a899-cf47-44e0-b280-c08ec82afd6f",
   "metadata": {
    "scrolled": true
   },
   "source": [
    "## Quantity Column"
   ]
  },
  {
   "cell_type": "code",
   "execution_count": 68,
   "id": "a9bad934-836b-4fb0-864a-6d3d34609631",
   "metadata": {},
   "outputs": [],
   "source": [
    "df2 = pd.read_csv(\"Datasets/datafile (2).csv\")"
   ]
  },
  {
   "cell_type": "code",
   "execution_count": 70,
   "id": "5fd47aee-5094-43dc-978a-85af4901ffb4",
   "metadata": {},
   "outputs": [
    {
     "data": {
      "text/html": [
       "<div>\n",
       "<style scoped>\n",
       "    .dataframe tbody tr th:only-of-type {\n",
       "        vertical-align: middle;\n",
       "    }\n",
       "\n",
       "    .dataframe tbody tr th {\n",
       "        vertical-align: top;\n",
       "    }\n",
       "\n",
       "    .dataframe thead th {\n",
       "        text-align: right;\n",
       "    }\n",
       "</style>\n",
       "<table border=\"1\" class=\"dataframe\">\n",
       "  <thead>\n",
       "    <tr style=\"text-align: right;\">\n",
       "      <th></th>\n",
       "      <th>Crop</th>\n",
       "      <th>Production 2006-07</th>\n",
       "      <th>Production 2007-08</th>\n",
       "      <th>Production 2008-09</th>\n",
       "      <th>Production 2009-10</th>\n",
       "      <th>Production 2010-11</th>\n",
       "      <th>Area 2006-07</th>\n",
       "      <th>Area 2007-08</th>\n",
       "      <th>Area 2008-09</th>\n",
       "      <th>Area 2009-10</th>\n",
       "      <th>Area 2010-11</th>\n",
       "      <th>Yield 2006-07</th>\n",
       "      <th>Yield 2007-08</th>\n",
       "      <th>Yield 2008-09</th>\n",
       "      <th>Yield 2009-10</th>\n",
       "      <th>Yield 2010-11</th>\n",
       "    </tr>\n",
       "  </thead>\n",
       "  <tbody>\n",
       "    <tr>\n",
       "      <th>0</th>\n",
       "      <td>Total Foodgrains</td>\n",
       "      <td>158.8</td>\n",
       "      <td>168.6</td>\n",
       "      <td>171.3</td>\n",
       "      <td>159.4</td>\n",
       "      <td>178.9</td>\n",
       "      <td>128.5</td>\n",
       "      <td>128.8</td>\n",
       "      <td>127.6</td>\n",
       "      <td>126.0</td>\n",
       "      <td>131.7</td>\n",
       "      <td>123.6</td>\n",
       "      <td>130.9</td>\n",
       "      <td>134.3</td>\n",
       "      <td>126.5</td>\n",
       "      <td>135.9</td>\n",
       "    </tr>\n",
       "    <tr>\n",
       "      <th>1</th>\n",
       "      <td>Paddy</td>\n",
       "      <td>200.8</td>\n",
       "      <td>207.9</td>\n",
       "      <td>213.3</td>\n",
       "      <td>191.6</td>\n",
       "      <td>206.4</td>\n",
       "      <td>168.5</td>\n",
       "      <td>168.9</td>\n",
       "      <td>175.1</td>\n",
       "      <td>161.2</td>\n",
       "      <td>164.8</td>\n",
       "      <td>119.2</td>\n",
       "      <td>123.1</td>\n",
       "      <td>121.8</td>\n",
       "      <td>118.9</td>\n",
       "      <td>125.2</td>\n",
       "    </tr>\n",
       "    <tr>\n",
       "      <th>2</th>\n",
       "      <td>Wheat</td>\n",
       "      <td>131.6</td>\n",
       "      <td>136.4</td>\n",
       "      <td>140.1</td>\n",
       "      <td>140.3</td>\n",
       "      <td>150.8</td>\n",
       "      <td>115.0</td>\n",
       "      <td>115.2</td>\n",
       "      <td>114.0</td>\n",
       "      <td>116.9</td>\n",
       "      <td>119.5</td>\n",
       "      <td>114.4</td>\n",
       "      <td>118.4</td>\n",
       "      <td>122.8</td>\n",
       "      <td>120.0</td>\n",
       "      <td>126.3</td>\n",
       "    </tr>\n",
       "    <tr>\n",
       "      <th>3</th>\n",
       "      <td>Jowar</td>\n",
       "      <td>124.3</td>\n",
       "      <td>137.8</td>\n",
       "      <td>126.0</td>\n",
       "      <td>116.5</td>\n",
       "      <td>121.8</td>\n",
       "      <td>120.7</td>\n",
       "      <td>110.6</td>\n",
       "      <td>107.3</td>\n",
       "      <td>111.0</td>\n",
       "      <td>105.2</td>\n",
       "      <td>103.0</td>\n",
       "      <td>124.6</td>\n",
       "      <td>117.4</td>\n",
       "      <td>105.0</td>\n",
       "      <td>115.8</td>\n",
       "    </tr>\n",
       "    <tr>\n",
       "      <th>4</th>\n",
       "      <td>Pearl Millet</td>\n",
       "      <td>136.4</td>\n",
       "      <td>161.5</td>\n",
       "      <td>143.9</td>\n",
       "      <td>105.4</td>\n",
       "      <td>167.9</td>\n",
       "      <td>94.5</td>\n",
       "      <td>95.1</td>\n",
       "      <td>87.0</td>\n",
       "      <td>88.5</td>\n",
       "      <td>95.6</td>\n",
       "      <td>144.3</td>\n",
       "      <td>169.7</td>\n",
       "      <td>165.4</td>\n",
       "      <td>119.0</td>\n",
       "      <td>175.8</td>\n",
       "    </tr>\n",
       "  </tbody>\n",
       "</table>\n",
       "</div>"
      ],
      "text/plain": [
       "               Crop  Production 2006-07  Production 2007-08  \\\n",
       "0  Total Foodgrains               158.8               168.6   \n",
       "1             Paddy               200.8               207.9   \n",
       "2             Wheat               131.6               136.4   \n",
       "3             Jowar               124.3               137.8   \n",
       "4      Pearl Millet               136.4               161.5   \n",
       "\n",
       "   Production 2008-09  Production 2009-10  Production 2010-11  Area 2006-07  \\\n",
       "0               171.3               159.4               178.9         128.5   \n",
       "1               213.3               191.6               206.4         168.5   \n",
       "2               140.1               140.3               150.8         115.0   \n",
       "3               126.0               116.5               121.8         120.7   \n",
       "4               143.9               105.4               167.9          94.5   \n",
       "\n",
       "   Area 2007-08  Area 2008-09  Area 2009-10  Area 2010-11  Yield 2006-07  \\\n",
       "0         128.8         127.6         126.0         131.7          123.6   \n",
       "1         168.9         175.1         161.2         164.8          119.2   \n",
       "2         115.2         114.0         116.9         119.5          114.4   \n",
       "3         110.6         107.3         111.0         105.2          103.0   \n",
       "4          95.1          87.0          88.5          95.6          144.3   \n",
       "\n",
       "   Yield 2007-08  Yield 2008-09  Yield 2009-10  Yield 2010-11  \n",
       "0          130.9          134.3          126.5          135.9  \n",
       "1          123.1          121.8          118.9          125.2  \n",
       "2          118.4          122.8          120.0          126.3  \n",
       "3          124.6          117.4          105.0          115.8  \n",
       "4          169.7          165.4          119.0          175.8  "
      ]
     },
     "execution_count": 70,
     "metadata": {},
     "output_type": "execute_result"
    }
   ],
   "source": [
    "df2.head()"
   ]
  },
  {
   "cell_type": "code",
   "execution_count": 72,
   "id": "b71df187-fd32-401b-b9b2-389800634c17",
   "metadata": {},
   "outputs": [],
   "source": [
    "df2[\"Avg_Area\"] = df2[[\"Area 2006-07\", \"Area 2007-08\", \"Area 2008-09\", \"Area 2009-10\", \"Area 2010-11\"]].mean(axis=1)"
   ]
  },
  {
   "cell_type": "code",
   "execution_count": 74,
   "id": "49f39e13-a28c-44a8-86c6-a86d11144c18",
   "metadata": {},
   "outputs": [
    {
     "data": {
      "text/html": [
       "<div>\n",
       "<style scoped>\n",
       "    .dataframe tbody tr th:only-of-type {\n",
       "        vertical-align: middle;\n",
       "    }\n",
       "\n",
       "    .dataframe tbody tr th {\n",
       "        vertical-align: top;\n",
       "    }\n",
       "\n",
       "    .dataframe thead th {\n",
       "        text-align: right;\n",
       "    }\n",
       "</style>\n",
       "<table border=\"1\" class=\"dataframe\">\n",
       "  <thead>\n",
       "    <tr style=\"text-align: right;\">\n",
       "      <th></th>\n",
       "      <th>Crop</th>\n",
       "      <th>Production 2006-07</th>\n",
       "      <th>Production 2007-08</th>\n",
       "      <th>Production 2008-09</th>\n",
       "      <th>Production 2009-10</th>\n",
       "      <th>Production 2010-11</th>\n",
       "      <th>Area 2006-07</th>\n",
       "      <th>Area 2007-08</th>\n",
       "      <th>Area 2008-09</th>\n",
       "      <th>Area 2009-10</th>\n",
       "      <th>Area 2010-11</th>\n",
       "      <th>Yield 2006-07</th>\n",
       "      <th>Yield 2007-08</th>\n",
       "      <th>Yield 2008-09</th>\n",
       "      <th>Yield 2009-10</th>\n",
       "      <th>Yield 2010-11</th>\n",
       "      <th>Avg_Area</th>\n",
       "    </tr>\n",
       "  </thead>\n",
       "  <tbody>\n",
       "    <tr>\n",
       "      <th>0</th>\n",
       "      <td>Total Foodgrains</td>\n",
       "      <td>158.8</td>\n",
       "      <td>168.6</td>\n",
       "      <td>171.3</td>\n",
       "      <td>159.4</td>\n",
       "      <td>178.9</td>\n",
       "      <td>128.5</td>\n",
       "      <td>128.8</td>\n",
       "      <td>127.6</td>\n",
       "      <td>126.0</td>\n",
       "      <td>131.7</td>\n",
       "      <td>123.6</td>\n",
       "      <td>130.9</td>\n",
       "      <td>134.3</td>\n",
       "      <td>126.5</td>\n",
       "      <td>135.9</td>\n",
       "      <td>128.52</td>\n",
       "    </tr>\n",
       "    <tr>\n",
       "      <th>1</th>\n",
       "      <td>Paddy</td>\n",
       "      <td>200.8</td>\n",
       "      <td>207.9</td>\n",
       "      <td>213.3</td>\n",
       "      <td>191.6</td>\n",
       "      <td>206.4</td>\n",
       "      <td>168.5</td>\n",
       "      <td>168.9</td>\n",
       "      <td>175.1</td>\n",
       "      <td>161.2</td>\n",
       "      <td>164.8</td>\n",
       "      <td>119.2</td>\n",
       "      <td>123.1</td>\n",
       "      <td>121.8</td>\n",
       "      <td>118.9</td>\n",
       "      <td>125.2</td>\n",
       "      <td>167.70</td>\n",
       "    </tr>\n",
       "    <tr>\n",
       "      <th>2</th>\n",
       "      <td>Wheat</td>\n",
       "      <td>131.6</td>\n",
       "      <td>136.4</td>\n",
       "      <td>140.1</td>\n",
       "      <td>140.3</td>\n",
       "      <td>150.8</td>\n",
       "      <td>115.0</td>\n",
       "      <td>115.2</td>\n",
       "      <td>114.0</td>\n",
       "      <td>116.9</td>\n",
       "      <td>119.5</td>\n",
       "      <td>114.4</td>\n",
       "      <td>118.4</td>\n",
       "      <td>122.8</td>\n",
       "      <td>120.0</td>\n",
       "      <td>126.3</td>\n",
       "      <td>116.12</td>\n",
       "    </tr>\n",
       "    <tr>\n",
       "      <th>3</th>\n",
       "      <td>Jowar</td>\n",
       "      <td>124.3</td>\n",
       "      <td>137.8</td>\n",
       "      <td>126.0</td>\n",
       "      <td>116.5</td>\n",
       "      <td>121.8</td>\n",
       "      <td>120.7</td>\n",
       "      <td>110.6</td>\n",
       "      <td>107.3</td>\n",
       "      <td>111.0</td>\n",
       "      <td>105.2</td>\n",
       "      <td>103.0</td>\n",
       "      <td>124.6</td>\n",
       "      <td>117.4</td>\n",
       "      <td>105.0</td>\n",
       "      <td>115.8</td>\n",
       "      <td>110.96</td>\n",
       "    </tr>\n",
       "    <tr>\n",
       "      <th>4</th>\n",
       "      <td>Pearl Millet</td>\n",
       "      <td>136.4</td>\n",
       "      <td>161.5</td>\n",
       "      <td>143.9</td>\n",
       "      <td>105.4</td>\n",
       "      <td>167.9</td>\n",
       "      <td>94.5</td>\n",
       "      <td>95.1</td>\n",
       "      <td>87.0</td>\n",
       "      <td>88.5</td>\n",
       "      <td>95.6</td>\n",
       "      <td>144.3</td>\n",
       "      <td>169.7</td>\n",
       "      <td>165.4</td>\n",
       "      <td>119.0</td>\n",
       "      <td>175.8</td>\n",
       "      <td>92.14</td>\n",
       "    </tr>\n",
       "  </tbody>\n",
       "</table>\n",
       "</div>"
      ],
      "text/plain": [
       "               Crop  Production 2006-07  Production 2007-08  \\\n",
       "0  Total Foodgrains               158.8               168.6   \n",
       "1             Paddy               200.8               207.9   \n",
       "2             Wheat               131.6               136.4   \n",
       "3             Jowar               124.3               137.8   \n",
       "4      Pearl Millet               136.4               161.5   \n",
       "\n",
       "   Production 2008-09  Production 2009-10  Production 2010-11  Area 2006-07  \\\n",
       "0               171.3               159.4               178.9         128.5   \n",
       "1               213.3               191.6               206.4         168.5   \n",
       "2               140.1               140.3               150.8         115.0   \n",
       "3               126.0               116.5               121.8         120.7   \n",
       "4               143.9               105.4               167.9          94.5   \n",
       "\n",
       "   Area 2007-08  Area 2008-09  Area 2009-10  Area 2010-11  Yield 2006-07  \\\n",
       "0         128.8         127.6         126.0         131.7          123.6   \n",
       "1         168.9         175.1         161.2         164.8          119.2   \n",
       "2         115.2         114.0         116.9         119.5          114.4   \n",
       "3         110.6         107.3         111.0         105.2          103.0   \n",
       "4          95.1          87.0          88.5          95.6          144.3   \n",
       "\n",
       "   Yield 2007-08  Yield 2008-09  Yield 2009-10  Yield 2010-11  Avg_Area  \n",
       "0          130.9          134.3          126.5          135.9    128.52  \n",
       "1          123.1          121.8          118.9          125.2    167.70  \n",
       "2          118.4          122.8          120.0          126.3    116.12  \n",
       "3          124.6          117.4          105.0          115.8    110.96  \n",
       "4          169.7          165.4          119.0          175.8     92.14  "
      ]
     },
     "execution_count": 74,
     "metadata": {},
     "output_type": "execute_result"
    }
   ],
   "source": [
    "df2.head()"
   ]
  },
  {
   "cell_type": "code",
   "execution_count": 76,
   "id": "f3bd8f30-6710-456a-a8c5-3df1f5687405",
   "metadata": {},
   "outputs": [
    {
     "data": {
      "text/plain": [
       "array(['Total Foodgrains', 'Paddy', 'Wheat', 'Jowar', 'Pearl Millet',\n",
       "       'Maize', 'Finger Millet', 'Small Millets', 'Barley',\n",
       "       'Coarse Cereals', 'Cereals', 'Bengal Gram', 'Arhar',\n",
       "       'Other Pulses', 'Total Pulses', 'Total Non-Food Grains',\n",
       "       'Total Oilseeds', 'Groundnut', 'Sesame', 'Indian Mustard',\n",
       "       'Linseed', 'Castor Seed', 'Safflower', 'Niger Seed', 'Sunflower',\n",
       "       'Soyabean', 'Nine Oilseeds', 'Coconut', 'Cotton Seed',\n",
       "       'Total Fibers', 'Cotton', 'Jute', 'Mesta', 'Jute & Mesta',\n",
       "       'Sannhamp', 'Tea', 'Coffee', 'Rubber', 'Total Spices',\n",
       "       'Black Pepper', 'Dry Chilies', 'Dry Ginger', 'Turmeric',\n",
       "       'Arecanut', 'Cardamom', 'Coriander', 'Garlic',\n",
       "       'Total Fruits & Vegetables', 'Potato', 'Tapioca', 'Sweet Potato',\n",
       "       'Onion', 'Banana', 'Sugarcane', 'Tobacco'], dtype=object)"
      ]
     },
     "execution_count": 76,
     "metadata": {},
     "output_type": "execute_result"
    }
   ],
   "source": [
    "df2['Crop'].unique()"
   ]
  },
  {
   "cell_type": "code",
   "execution_count": 78,
   "id": "98d8e644-50dc-4695-8e52-b8eab14a56ea",
   "metadata": {},
   "outputs": [],
   "source": [
    "# Making the 'Quantity' Column\n",
    "merged_df = pd.merge(merged_df, df2[['Crop', 'Avg_Area']], on='Crop', how='left') \n",
    "merged_df.rename(columns={'Avg_Area': 'Quantity'}, inplace=True)"
   ]
  },
  {
   "cell_type": "code",
   "execution_count": 80,
   "id": "72aaa4e6-2c04-421e-ab33-367292144dbd",
   "metadata": {},
   "outputs": [
    {
     "data": {
      "text/html": [
       "<div>\n",
       "<style scoped>\n",
       "    .dataframe tbody tr th:only-of-type {\n",
       "        vertical-align: middle;\n",
       "    }\n",
       "\n",
       "    .dataframe tbody tr th {\n",
       "        vertical-align: top;\n",
       "    }\n",
       "\n",
       "    .dataframe thead th {\n",
       "        text-align: right;\n",
       "    }\n",
       "</style>\n",
       "<table border=\"1\" class=\"dataframe\">\n",
       "  <thead>\n",
       "    <tr style=\"text-align: right;\">\n",
       "      <th></th>\n",
       "      <th>Crop</th>\n",
       "      <th>Variety</th>\n",
       "      <th>State</th>\n",
       "      <th>Duration in days</th>\n",
       "      <th>Cost</th>\n",
       "      <th>Quantity</th>\n",
       "    </tr>\n",
       "  </thead>\n",
       "  <tbody>\n",
       "    <tr>\n",
       "      <th>0</th>\n",
       "      <td>Paddy</td>\n",
       "      <td>Chinsurah Rice (IET 19140)</td>\n",
       "      <td>Andhra Pradesh</td>\n",
       "      <td>150</td>\n",
       "      <td>46450.2</td>\n",
       "      <td>167.7</td>\n",
       "    </tr>\n",
       "    <tr>\n",
       "      <th>1</th>\n",
       "      <td>Paddy</td>\n",
       "      <td>Chinsurah Rice (IET 19140)</td>\n",
       "      <td>Tamil Nadu</td>\n",
       "      <td>150</td>\n",
       "      <td>31603.2</td>\n",
       "      <td>167.7</td>\n",
       "    </tr>\n",
       "    <tr>\n",
       "      <th>2</th>\n",
       "      <td>Paddy</td>\n",
       "      <td>Chinsurah Rice (IET 19140)</td>\n",
       "      <td>Gujarat</td>\n",
       "      <td>150</td>\n",
       "      <td>31603.2</td>\n",
       "      <td>167.7</td>\n",
       "    </tr>\n",
       "    <tr>\n",
       "      <th>3</th>\n",
       "      <td>Paddy</td>\n",
       "      <td>Chinsurah Rice (IET 19140)</td>\n",
       "      <td>Orissa</td>\n",
       "      <td>150</td>\n",
       "      <td>31603.2</td>\n",
       "      <td>167.7</td>\n",
       "    </tr>\n",
       "    <tr>\n",
       "      <th>4</th>\n",
       "      <td>Paddy</td>\n",
       "      <td>Chinsurah Rice (IET 19140)</td>\n",
       "      <td>West Bengal</td>\n",
       "      <td>150</td>\n",
       "      <td>31603.2</td>\n",
       "      <td>167.7</td>\n",
       "    </tr>\n",
       "  </tbody>\n",
       "</table>\n",
       "</div>"
      ],
      "text/plain": [
       "    Crop                     Variety           State  Duration in days  \\\n",
       "0  Paddy  Chinsurah Rice (IET 19140)  Andhra Pradesh               150   \n",
       "1  Paddy  Chinsurah Rice (IET 19140)      Tamil Nadu               150   \n",
       "2  Paddy  Chinsurah Rice (IET 19140)         Gujarat               150   \n",
       "3  Paddy  Chinsurah Rice (IET 19140)          Orissa               150   \n",
       "4  Paddy  Chinsurah Rice (IET 19140)     West Bengal               150   \n",
       "\n",
       "      Cost  Quantity  \n",
       "0  46450.2     167.7  \n",
       "1  31603.2     167.7  \n",
       "2  31603.2     167.7  \n",
       "3  31603.2     167.7  \n",
       "4  31603.2     167.7  "
      ]
     },
     "execution_count": 80,
     "metadata": {},
     "output_type": "execute_result"
    }
   ],
   "source": [
    "merged_df.head()"
   ]
  },
  {
   "cell_type": "code",
   "execution_count": 82,
   "id": "8496415c-9f2f-48ce-ab59-021cafa3083f",
   "metadata": {},
   "outputs": [
    {
     "name": "stdout",
     "output_type": "stream",
     "text": [
      "<class 'pandas.core.frame.DataFrame'>\n",
      "RangeIndex: 277 entries, 0 to 276\n",
      "Data columns (total 6 columns):\n",
      " #   Column            Non-Null Count  Dtype  \n",
      "---  ------            --------------  -----  \n",
      " 0   Crop              277 non-null    object \n",
      " 1   Variety           277 non-null    object \n",
      " 2   State             277 non-null    object \n",
      " 3   Duration in days  277 non-null    int64  \n",
      " 4   Cost              277 non-null    float64\n",
      " 5   Quantity          277 non-null    float64\n",
      "dtypes: float64(2), int64(1), object(3)\n",
      "memory usage: 13.1+ KB\n"
     ]
    }
   ],
   "source": [
    "merged_df.info()"
   ]
  },
  {
   "cell_type": "code",
   "execution_count": 84,
   "id": "b34d8acb-86e7-4837-874c-45fcd1a0f69e",
   "metadata": {},
   "outputs": [],
   "source": [
    "#"
   ]
  },
  {
   "cell_type": "code",
   "execution_count": null,
   "id": "9b681839-ea7f-43e5-912f-e04c6e9a8235",
   "metadata": {},
   "outputs": [],
   "source": []
  },
  {
   "cell_type": "markdown",
   "id": "fb753f51-27ce-4a57-bfa2-c95069b2edda",
   "metadata": {},
   "source": [
    "## Production/Duration"
   ]
  },
  {
   "cell_type": "code",
   "execution_count": 88,
   "id": "43f156f6-be35-450e-b27e-f16cc85b18a1",
   "metadata": {},
   "outputs": [],
   "source": [
    "df2[\"Total_Production\"] = df2[[\"Production 2006-07\", \"Production 2007-08\", \"Production 2008-09\", \"Production 2009-10\", \"Production 2010-11\"]].sum(axis=1)"
   ]
  },
  {
   "cell_type": "code",
   "execution_count": 90,
   "id": "7d5bc8ae-67b7-4436-b362-46e5a191c6a9",
   "metadata": {},
   "outputs": [],
   "source": [
    "df2[\"Predicted_Production\"] = df2[\"Total_Production\"] * (merged_df[\"Duration in days\"] / 365)\n",
    "# Making the 'Quantity' Column\n",
    "merged_df = pd.merge(merged_df, df2[['Crop', \"Predicted_Production\"]], on='Crop', how='left') \n",
    "#merged_df.rename(columns={\"Predicted_Production\": 'Quantity'}, inplace=True)"
   ]
  },
  {
   "cell_type": "code",
   "execution_count": 92,
   "id": "cd4667fc-880a-4f58-a77e-01eb20fddec1",
   "metadata": {},
   "outputs": [
    {
     "data": {
      "text/html": [
       "<div>\n",
       "<style scoped>\n",
       "    .dataframe tbody tr th:only-of-type {\n",
       "        vertical-align: middle;\n",
       "    }\n",
       "\n",
       "    .dataframe tbody tr th {\n",
       "        vertical-align: top;\n",
       "    }\n",
       "\n",
       "    .dataframe thead th {\n",
       "        text-align: right;\n",
       "    }\n",
       "</style>\n",
       "<table border=\"1\" class=\"dataframe\">\n",
       "  <thead>\n",
       "    <tr style=\"text-align: right;\">\n",
       "      <th></th>\n",
       "      <th>Crop</th>\n",
       "      <th>Variety</th>\n",
       "      <th>State</th>\n",
       "      <th>Duration in days</th>\n",
       "      <th>Cost</th>\n",
       "      <th>Quantity</th>\n",
       "      <th>Predicted_Production</th>\n",
       "    </tr>\n",
       "  </thead>\n",
       "  <tbody>\n",
       "    <tr>\n",
       "      <th>0</th>\n",
       "      <td>Paddy</td>\n",
       "      <td>Chinsurah Rice (IET 19140)</td>\n",
       "      <td>Andhra Pradesh</td>\n",
       "      <td>150</td>\n",
       "      <td>46450.2</td>\n",
       "      <td>167.7</td>\n",
       "      <td>419.178082</td>\n",
       "    </tr>\n",
       "    <tr>\n",
       "      <th>1</th>\n",
       "      <td>Paddy</td>\n",
       "      <td>Chinsurah Rice (IET 19140)</td>\n",
       "      <td>Tamil Nadu</td>\n",
       "      <td>150</td>\n",
       "      <td>31603.2</td>\n",
       "      <td>167.7</td>\n",
       "      <td>419.178082</td>\n",
       "    </tr>\n",
       "    <tr>\n",
       "      <th>2</th>\n",
       "      <td>Paddy</td>\n",
       "      <td>Chinsurah Rice (IET 19140)</td>\n",
       "      <td>Gujarat</td>\n",
       "      <td>150</td>\n",
       "      <td>31603.2</td>\n",
       "      <td>167.7</td>\n",
       "      <td>419.178082</td>\n",
       "    </tr>\n",
       "    <tr>\n",
       "      <th>3</th>\n",
       "      <td>Paddy</td>\n",
       "      <td>Chinsurah Rice (IET 19140)</td>\n",
       "      <td>Orissa</td>\n",
       "      <td>150</td>\n",
       "      <td>31603.2</td>\n",
       "      <td>167.7</td>\n",
       "      <td>419.178082</td>\n",
       "    </tr>\n",
       "    <tr>\n",
       "      <th>4</th>\n",
       "      <td>Paddy</td>\n",
       "      <td>Chinsurah Rice (IET 19140)</td>\n",
       "      <td>West Bengal</td>\n",
       "      <td>150</td>\n",
       "      <td>31603.2</td>\n",
       "      <td>167.7</td>\n",
       "      <td>419.178082</td>\n",
       "    </tr>\n",
       "  </tbody>\n",
       "</table>\n",
       "</div>"
      ],
      "text/plain": [
       "    Crop                     Variety           State  Duration in days  \\\n",
       "0  Paddy  Chinsurah Rice (IET 19140)  Andhra Pradesh               150   \n",
       "1  Paddy  Chinsurah Rice (IET 19140)      Tamil Nadu               150   \n",
       "2  Paddy  Chinsurah Rice (IET 19140)         Gujarat               150   \n",
       "3  Paddy  Chinsurah Rice (IET 19140)          Orissa               150   \n",
       "4  Paddy  Chinsurah Rice (IET 19140)     West Bengal               150   \n",
       "\n",
       "      Cost  Quantity  Predicted_Production  \n",
       "0  46450.2     167.7            419.178082  \n",
       "1  31603.2     167.7            419.178082  \n",
       "2  31603.2     167.7            419.178082  \n",
       "3  31603.2     167.7            419.178082  \n",
       "4  31603.2     167.7            419.178082  "
      ]
     },
     "execution_count": 92,
     "metadata": {},
     "output_type": "execute_result"
    }
   ],
   "source": [
    "merged_df.head()"
   ]
  },
  {
   "cell_type": "code",
   "execution_count": 94,
   "id": "556b19b1-ca4d-4fd2-8f70-fa5dc4e6eb67",
   "metadata": {
    "scrolled": true
   },
   "outputs": [
    {
     "name": "stdout",
     "output_type": "stream",
     "text": [
      "<class 'pandas.core.frame.DataFrame'>\n",
      "RangeIndex: 277 entries, 0 to 276\n",
      "Data columns (total 7 columns):\n",
      " #   Column                Non-Null Count  Dtype  \n",
      "---  ------                --------------  -----  \n",
      " 0   Crop                  277 non-null    object \n",
      " 1   Variety               277 non-null    object \n",
      " 2   State                 277 non-null    object \n",
      " 3   Duration in days      277 non-null    int64  \n",
      " 4   Cost                  277 non-null    float64\n",
      " 5   Quantity              277 non-null    float64\n",
      " 6   Predicted_Production  277 non-null    float64\n",
      "dtypes: float64(3), int64(1), object(3)\n",
      "memory usage: 15.3+ KB\n"
     ]
    }
   ],
   "source": [
    "merged_df.info()"
   ]
  },
  {
   "cell_type": "code",
   "execution_count": 96,
   "id": "12f683e6-d092-4380-a7bf-14b2f45ffae6",
   "metadata": {},
   "outputs": [
    {
     "name": "stdout",
     "output_type": "stream",
     "text": [
      "<class 'pandas.core.frame.DataFrame'>\n",
      "RangeIndex: 277 entries, 0 to 276\n",
      "Data columns (total 7 columns):\n",
      " #   Column                Non-Null Count  Dtype  \n",
      "---  ------                --------------  -----  \n",
      " 0   Crop                  277 non-null    object \n",
      " 1   Variety               277 non-null    object \n",
      " 2   State                 277 non-null    object \n",
      " 3   Duration in days      277 non-null    int64  \n",
      " 4   Cost                  277 non-null    float64\n",
      " 5   Quantity              277 non-null    float64\n",
      " 6   Predicted_Production  277 non-null    float64\n",
      "dtypes: float64(3), int64(1), object(3)\n",
      "memory usage: 15.3+ KB\n"
     ]
    }
   ],
   "source": [
    "Production_mean = merged_df['Predicted_Production'].mean()\n",
    "merged_df['Predicted_Production'] = merged_df['Predicted_Production'].fillna(Production_mean)\n",
    "merged_df.info()"
   ]
  },
  {
   "cell_type": "code",
   "execution_count": 98,
   "id": "5fb8ee88-e038-4a9b-ad6a-822f26197f93",
   "metadata": {},
   "outputs": [],
   "source": [
    "merged_df.to_csv('Final_df.csv', index=False)"
   ]
  },
  {
   "cell_type": "code",
   "execution_count": null,
   "id": "67007f38-3736-4102-af47-fcaa79544a34",
   "metadata": {},
   "outputs": [],
   "source": []
  },
  {
   "cell_type": "code",
   "execution_count": null,
   "id": "2928fd89-32a2-47e2-8e06-37e7ca02a203",
   "metadata": {},
   "outputs": [],
   "source": []
  },
  {
   "cell_type": "code",
   "execution_count": null,
   "id": "5f376ae9-3ab5-4851-82f4-e0c9bf98b7f7",
   "metadata": {},
   "outputs": [],
   "source": []
  },
  {
   "cell_type": "code",
   "execution_count": null,
   "id": "f10c7e7f-be2a-4ceb-9471-8ef4ad2ad104",
   "metadata": {},
   "outputs": [],
   "source": []
  }
 ],
 "metadata": {
  "kernelspec": {
   "display_name": "Python 3 (ipykernel)",
   "language": "python",
   "name": "python3"
  },
  "language_info": {
   "codemirror_mode": {
    "name": "ipython",
    "version": 3
   },
   "file_extension": ".py",
   "mimetype": "text/x-python",
   "name": "python",
   "nbconvert_exporter": "python",
   "pygments_lexer": "ipython3",
   "version": "3.12.4"
  }
 },
 "nbformat": 4,
 "nbformat_minor": 5
}
