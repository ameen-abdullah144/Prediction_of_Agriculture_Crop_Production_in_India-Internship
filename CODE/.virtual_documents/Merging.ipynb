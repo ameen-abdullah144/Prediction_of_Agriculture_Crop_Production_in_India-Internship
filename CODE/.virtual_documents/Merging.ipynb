import pandas as pd
import numpy as np
import matplotlib.pyplot as plt
import seaborn as sns



df = pd.read_csv('Datasets/datafile (3).csv')


df.head()



len(df['Variety'].unique())


df.isnull().sum()


fdf=pd.DataFrame()


#adding Crops
fdf['Crop']=df['Crop']
#adding Variety
fdf['Variety']=df['Variety']
#adding the State list
fdf['State'] = df['Recommended Zone'].str.split(',')
fdf['State'][0][0]
#Season/ duration in days
fdf['Duration in days'] = df['Season/ duration in days']


fdf['State']=fdf['State'].fillna(fdf['State'].mode())


fdf.head()
#fdf.to_csv('recomended_df.csv', index=False)





for i in fdf['State'][1]:
    print (i,end=', ') 
fdf=fdf.explode('State')


fdf.head()


# List of crops to keep
valid_crops = [
    "Paddy", "Wheat", "Maize", "Barley", "Pearl Millet",
    "Finger Millet", "Bengal Gram", "Indian Mustard",
    "Groundnut", "Sugarcane", "Cotton", "Jute", "Mesta"
]

# Filter rows where the crop is in the valid_crops list
filtered_df = fdf[fdf['Crop'].isin(valid_crops)]



filtered_df.head()



filtered_df.shape


filtered_df.info()





#inserting the column
df1=pd.read_csv("Datasets/datafile (1).csv")
df1['Crop'].unique()
df1.columns





filtered_df.head()





#df1_exploded = filtered_df.explode('State')


merged_df = pd.merge(filtered_df, df1[['Crop', 'State', 'Cost of Cultivation (`/Hectare) C2']], on=['Crop', 'State'], how='left') 

# Rename the 'Cost of Cultivation (₹/Hectare) C2' column to 'cost' 


# Rename the 'Cost of Cultivation (₹/Hectare) C2' column to 'cost' 
merged_df.rename(columns={'Cost of Cultivation (`/Hectare) C2': 'Cost'}, inplace=True)


merged_df.info()


merged_df['Cost'] = pd.to_numeric(merged_df['Cost'], errors='coerce')
if merged_df['Cost'].isna().any():
    print("There are NaN or invalid values in the 'Cost' column.")


invalid_rows = merged_df[merged_df['Cost'].isna()]
print(invalid_rows)


# Calculate the mean cost for each crop 
mean_costs = merged_df.groupby('Crop')['Cost'].transform('mean') 
# Fill NaN values with the mean cost for the same crop 
merged_df['Cost'] = merged_df['Cost'].fillna(mean_costs)


merged_df.info()


merged_df['Cost'].unique()





merged_df.info()


invalid_rows = merged_df[merged_df['Cost'].isna()]
print(invalid_rows)


overall_mean = merged_df['Cost'].mean()
merged_df['Cost'] = merged_df['Cost'].fillna(overall_mean)
merged_df.info()





df2 = pd.read_csv("Datasets/datafile (2).csv")


df2.head()


df2["Avg_Area"] = df2[["Area 2006-07", "Area 2007-08", "Area 2008-09", "Area 2009-10", "Area 2010-11"]].mean(axis=1)


df2.head()


df2['Crop'].unique()


# Making the 'Quantity' Column
merged_df = pd.merge(merged_df, df2[['Crop', 'Avg_Area']], on='Crop', how='left') 
merged_df.rename(columns={'Avg_Area': 'Quantity'}, inplace=True)


merged_df.head()


merged_df.info()


#








df2["Total_Production"] = df2[["Production 2006-07", "Production 2007-08", "Production 2008-09", "Production 2009-10", "Production 2010-11"]].sum(axis=1)


df2["Predicted_Production"] = df2["Total_Production"] * (merged_df["Duration in days"] / 365)
# Making the 'Quantity' Column
merged_df = pd.merge(merged_df, df2[['Crop', "Predicted_Production"]], on='Crop', how='left') 
#merged_df.rename(columns={"Predicted_Production": 'Quantity'}, inplace=True)


merged_df.head()


merged_df.info()


Production_mean = merged_df['Predicted_Production'].mean()
merged_df['Predicted_Production'] = merged_df['Predicted_Production'].fillna(Production_mean)
merged_df.info()


merged_df.to_csv('Final_df.csv', index=False)












