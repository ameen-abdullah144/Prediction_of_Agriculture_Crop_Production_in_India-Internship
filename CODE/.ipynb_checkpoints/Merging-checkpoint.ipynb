{
 "cells": [
  {
   "cell_type": "code",
   "execution_count": 1,
   "id": "e62f989b-75dd-40fd-b36a-6f9cf02a0321",
   "metadata": {},
   "outputs": [],
   "source": [
    "import pandas as pd\n",
    "import numpy as np\n",
    "import matplotlib.pyplot as plt\n",
    "import seaborn as sns\n"
   ]
  },
  {
   "cell_type": "code",
   "execution_count": 2,
   "id": "2e324b61-4814-447a-97f6-693189fd824a",
   "metadata": {},
   "outputs": [],
   "source": [
    "df = pd.read_csv(\"Datasets/datafile (3).csv\")"
   ]
  },
  {
   "cell_type": "code",
   "execution_count": 3,
   "id": "1e5b9b54-c13b-4557-82fe-0a568eda892e",
   "metadata": {},
   "outputs": [
    {
     "data": {
      "text/html": [
       "<div>\n",
       "<style scoped>\n",
       "    .dataframe tbody tr th:only-of-type {\n",
       "        vertical-align: middle;\n",
       "    }\n",
       "\n",
       "    .dataframe tbody tr th {\n",
       "        vertical-align: top;\n",
       "    }\n",
       "\n",
       "    .dataframe thead th {\n",
       "        text-align: right;\n",
       "    }\n",
       "</style>\n",
       "<table border=\"1\" class=\"dataframe\">\n",
       "  <thead>\n",
       "    <tr style=\"text-align: right;\">\n",
       "      <th></th>\n",
       "      <th>Crop</th>\n",
       "      <th>Variety</th>\n",
       "      <th>Season/ duration in days</th>\n",
       "      <th>Recommended Zone</th>\n",
       "    </tr>\n",
       "  </thead>\n",
       "  <tbody>\n",
       "    <tr>\n",
       "      <th>0</th>\n",
       "      <td>Paddy</td>\n",
       "      <td>Chinsurah Rice (IET 19140)</td>\n",
       "      <td>150</td>\n",
       "      <td>Andhra Pradesh, Tamil Nadu, Gujarat, Orissa, W...</td>\n",
       "    </tr>\n",
       "    <tr>\n",
       "      <th>1</th>\n",
       "      <td>Paddy</td>\n",
       "      <td>(CNI 383-5-11)</td>\n",
       "      <td>144</td>\n",
       "      <td>NaN</td>\n",
       "    </tr>\n",
       "    <tr>\n",
       "      <th>2</th>\n",
       "      <td>Paddy</td>\n",
       "      <td>IGKVR-1 (IET 19569)</td>\n",
       "      <td>110</td>\n",
       "      <td>Chhattisgarh, Madhya Pradesh, Orissa</td>\n",
       "    </tr>\n",
       "    <tr>\n",
       "      <th>3</th>\n",
       "      <td>Paddy</td>\n",
       "      <td>IGKVR-2 (IET 19795)</td>\n",
       "      <td>150</td>\n",
       "      <td>Chhattisgarh, Bihar, Orissa</td>\n",
       "    </tr>\n",
       "    <tr>\n",
       "      <th>4</th>\n",
       "      <td>Paddy</td>\n",
       "      <td>CR Dhan 401 (REETA)</td>\n",
       "      <td>148</td>\n",
       "      <td>Orissa, West Bengal, Tamil Nadu, Andhra Pradesh</td>\n",
       "    </tr>\n",
       "  </tbody>\n",
       "</table>\n",
       "</div>"
      ],
      "text/plain": [
       "    Crop                     Variety  Season/ duration in days  \\\n",
       "0  Paddy  Chinsurah Rice (IET 19140)                       150   \n",
       "1  Paddy              (CNI 383-5-11)                       144   \n",
       "2  Paddy         IGKVR-1 (IET 19569)                       110   \n",
       "3  Paddy         IGKVR-2 (IET 19795)                       150   \n",
       "4  Paddy         CR Dhan 401 (REETA)                       148   \n",
       "\n",
       "                                    Recommended Zone  \n",
       "0  Andhra Pradesh, Tamil Nadu, Gujarat, Orissa, W...  \n",
       "1                                                NaN  \n",
       "2               Chhattisgarh, Madhya Pradesh, Orissa  \n",
       "3                        Chhattisgarh, Bihar, Orissa  \n",
       "4    Orissa, West Bengal, Tamil Nadu, Andhra Pradesh  "
      ]
     },
     "execution_count": 3,
     "metadata": {},
     "output_type": "execute_result"
    }
   ],
   "source": [
    "df.head()\n"
   ]
  },
  {
   "cell_type": "code",
   "execution_count": 4,
   "id": "388772df-6fbe-423c-ad01-6a3008cfbe72",
   "metadata": {},
   "outputs": [
    {
     "data": {
      "text/plain": [
       "78"
      ]
     },
     "execution_count": 4,
     "metadata": {},
     "output_type": "execute_result"
    }
   ],
   "source": [
    "len(df['Variety'].unique())"
   ]
  },
  {
   "cell_type": "code",
   "execution_count": 5,
   "id": "3e2523ce-b918-4438-a78e-4e69d796286c",
   "metadata": {},
   "outputs": [
    {
     "data": {
      "text/plain": [
       "Crop                        0\n",
       "Variety                     0\n",
       "Season/ duration in days    0\n",
       "Recommended Zone            1\n",
       "dtype: int64"
      ]
     },
     "execution_count": 5,
     "metadata": {},
     "output_type": "execute_result"
    }
   ],
   "source": [
    "df.isnull().sum()"
   ]
  },
  {
   "cell_type": "code",
   "execution_count": 6,
   "id": "25a065af-d0e6-4271-b261-3a5752ffe291",
   "metadata": {},
   "outputs": [],
   "source": [
    "fdf=pd.DataFrame()"
   ]
  },
  {
   "cell_type": "code",
   "execution_count": 7,
   "id": "bd646240-2480-41da-a53c-9e31e438a573",
   "metadata": {},
   "outputs": [],
   "source": [
    "#adding Crops\n",
    "fdf['Crop']=df['Crop']\n",
    "#adding Variety\n",
    "fdf['Variety']=df['Variety']\n",
    "#adding the State list\n",
    "fdf['State'] = df['Recommended Zone'].str.split(',')\n",
    "fdf['State'][0][0]\n",
    "#Season/ duration in days\n",
    "fdf['Duration in days'] = df['Season/ duration in days']"
   ]
  },
  {
   "cell_type": "code",
   "execution_count": 8,
   "id": "0a3cf478-353c-4696-a1fd-a83895ccf3b6",
   "metadata": {},
   "outputs": [],
   "source": [
    "fdf['State']=fdf['State'].fillna(fdf['State'].mode())"
   ]
  },
  {
   "cell_type": "code",
   "execution_count": 9,
   "id": "2201fcd0-3f0e-4058-9e4b-7f43c5b256b5",
   "metadata": {},
   "outputs": [],
   "source": [
    "fdf.head()\n",
    "fdf.to_csv('recomended_df.csv', index=False)"
   ]
  },
  {
   "cell_type": "code",
   "execution_count": 10,
   "id": "737dc82d-e1d4-431c-b6aa-a9d38dfa554f",
   "metadata": {},
   "outputs": [
    {
     "ename": "NameError",
     "evalue": "name 'filtered_df' is not defined",
     "output_type": "error",
     "traceback": [
      "\u001b[1;31m---------------------------------------------------------------------------\u001b[0m",
      "\u001b[1;31mNameError\u001b[0m                                 Traceback (most recent call last)",
      "Cell \u001b[1;32mIn[10], line 1\u001b[0m\n\u001b[1;32m----> 1\u001b[0m filtered_df\u001b[38;5;241m.\u001b[39mto_csv(\u001b[38;5;124m'\u001b[39m\u001b[38;5;124mrecomended_df.csv\u001b[39m\u001b[38;5;124m'\u001b[39m, index\u001b[38;5;241m=\u001b[39m\u001b[38;5;28;01mFalse\u001b[39;00m)\n",
      "\u001b[1;31mNameError\u001b[0m: name 'filtered_df' is not defined"
     ]
    }
   ],
   "source": []
  },
  {
   "cell_type": "code",
   "execution_count": null,
   "id": "7ecc3111-6c8e-40bc-8c31-14d67268298d",
   "metadata": {},
   "outputs": [],
   "source": [
    "for i in fdf['State'][1]:\n",
    "    print (i,end=', ') \n",
    "fdf=fdf.explode('State')"
   ]
  },
  {
   "cell_type": "code",
   "execution_count": null,
   "id": "6eadb65a-81ee-43b2-b765-3334755fb1ba",
   "metadata": {},
   "outputs": [],
   "source": [
    "fdf.head()"
   ]
  },
  {
   "cell_type": "code",
   "execution_count": null,
   "id": "b65ff1c8-2f39-45fd-8d4e-c398877fd943",
   "metadata": {},
   "outputs": [],
   "source": [
    "# List of crops to keep\n",
    "valid_crops = [\n",
    "    \"Paddy\", \"Wheat\", \"Maize\", \"Barley\", \"Pearl Millet\",\n",
    "    \"Finger Millet\", \"Bengal Gram\", \"Indian Mustard\",\n",
    "    \"Groundnut\", \"Sugarcane\", \"Cotton\", \"Jute\", \"Mesta\"\n",
    "]\n",
    "\n",
    "# Filter rows where the crop is in the valid_crops list\n",
    "filtered_df = fdf[fdf['Crop'].isin(valid_crops)]\n"
   ]
  },
  {
   "cell_type": "code",
   "execution_count": null,
   "id": "778de37b-53af-422a-900e-d2e825291d13",
   "metadata": {},
   "outputs": [],
   "source": [
    "filtered_df.head()\n"
   ]
  },
  {
   "cell_type": "code",
   "execution_count": null,
   "id": "f92f2c69-ed65-4036-bb5a-a8f5ffc8aa2f",
   "metadata": {},
   "outputs": [],
   "source": [
    "filtered_df.shape"
   ]
  },
  {
   "cell_type": "code",
   "execution_count": null,
   "id": "e90f7c47-aa8b-4023-91b0-5eee96170053",
   "metadata": {},
   "outputs": [],
   "source": [
    "filtered_df.info()"
   ]
  },
  {
   "cell_type": "code",
   "execution_count": null,
   "id": "ce54ef11-999d-4819-809d-ee418d4ec663",
   "metadata": {},
   "outputs": [],
   "source": []
  },
  {
   "cell_type": "code",
   "execution_count": null,
   "id": "d1cb673c-0d0d-4f6a-84b2-338111a555b4",
   "metadata": {},
   "outputs": [],
   "source": [
    "#inserting the column\n",
    "df1=pd.read_csv(\"Datasets/datafile (1).csv\")\n",
    "df1['Crop'].unique()\n",
    "df1.columns"
   ]
  },
  {
   "cell_type": "code",
   "execution_count": null,
   "id": "7cca741e-3dec-4cb9-9161-c05ed5609130",
   "metadata": {},
   "outputs": [],
   "source": []
  },
  {
   "cell_type": "code",
   "execution_count": null,
   "id": "348f2f03-0db7-4406-ac94-2a951208a07d",
   "metadata": {},
   "outputs": [],
   "source": [
    "filtered_df.head()"
   ]
  },
  {
   "cell_type": "code",
   "execution_count": null,
   "id": "d50f4818-b842-4836-bc21-72a2c857afca",
   "metadata": {},
   "outputs": [],
   "source": []
  },
  {
   "cell_type": "code",
   "execution_count": null,
   "id": "21ebcc27-e4c7-427b-b657-df6719ca2d0a",
   "metadata": {},
   "outputs": [],
   "source": [
    "#df1_exploded = filtered_df.explode('State')"
   ]
  },
  {
   "cell_type": "code",
   "execution_count": null,
   "id": "8961c452-df63-4333-91f7-793dc4e1798f",
   "metadata": {},
   "outputs": [],
   "source": [
    "merged_df = pd.merge(filtered_df, df1[['Crop', 'State', 'Cost of Cultivation (`/Hectare) C2']], on=['Crop', 'State'], how='left') \n",
    "\n",
    "# Rename the 'Cost of Cultivation (₹/Hectare) C2' column to 'cost' "
   ]
  },
  {
   "cell_type": "code",
   "execution_count": null,
   "id": "ee8cd022-8998-43c2-9cbe-4488af280c16",
   "metadata": {},
   "outputs": [],
   "source": [
    "# Rename the 'Cost of Cultivation (₹/Hectare) C2' column to 'cost' \n",
    "merged_df.rename(columns={'Cost of Cultivation (`/Hectare) C2': 'Cost'}, inplace=True)"
   ]
  },
  {
   "cell_type": "code",
   "execution_count": null,
   "id": "343e4e6a-aded-4d3e-948b-ba3c486a920a",
   "metadata": {},
   "outputs": [],
   "source": [
    "merged_df.info()"
   ]
  },
  {
   "cell_type": "code",
   "execution_count": null,
   "id": "c1143696-ac95-4889-8f55-c41513040122",
   "metadata": {},
   "outputs": [],
   "source": [
    "merged_df['Cost'] = pd.to_numeric(merged_df['Cost'], errors='coerce')\n",
    "if merged_df['Cost'].isna().any():\n",
    "    print(\"There are NaN or invalid values in the 'Cost' column.\")"
   ]
  },
  {
   "cell_type": "code",
   "execution_count": null,
   "id": "abcfe99a-cb3e-4028-ab18-a42e0055cf54",
   "metadata": {},
   "outputs": [],
   "source": [
    "invalid_rows = merged_df[merged_df['Cost'].isna()]\n",
    "print(invalid_rows)"
   ]
  },
  {
   "cell_type": "code",
   "execution_count": null,
   "id": "89ed6e59-6797-4b38-8f65-c71c5367a6a5",
   "metadata": {},
   "outputs": [],
   "source": [
    "# Calculate the mean cost for each crop \n",
    "mean_costs = merged_df.groupby('Crop')['Cost'].transform('mean') \n",
    "# Fill NaN values with the mean cost for the same crop \n",
    "merged_df['Cost'] = merged_df['Cost'].fillna(mean_costs)"
   ]
  },
  {
   "cell_type": "code",
   "execution_count": null,
   "id": "093884e7-d49e-4822-a226-3e8e09d0e969",
   "metadata": {
    "scrolled": true
   },
   "outputs": [],
   "source": [
    "merged_df.info()"
   ]
  },
  {
   "cell_type": "code",
   "execution_count": null,
   "id": "9cf20270-1a06-4810-806d-3f7e8459951d",
   "metadata": {},
   "outputs": [],
   "source": [
    "merged_df['Cost'].unique()"
   ]
  },
  {
   "cell_type": "code",
   "execution_count": null,
   "id": "b2a2e991-e85a-4f05-bf2a-d65f4024b571",
   "metadata": {},
   "outputs": [],
   "source": []
  },
  {
   "cell_type": "code",
   "execution_count": null,
   "id": "ebe80c0b-edc6-4f30-9315-80a846c4b2b3",
   "metadata": {},
   "outputs": [],
   "source": [
    "merged_df.info()"
   ]
  },
  {
   "cell_type": "code",
   "execution_count": null,
   "id": "7cf0131f-093d-4e17-bbab-a08ccd6042bf",
   "metadata": {
    "scrolled": true
   },
   "outputs": [],
   "source": [
    "invalid_rows = merged_df[merged_df['Cost'].isna()]\n",
    "print(invalid_rows)"
   ]
  },
  {
   "cell_type": "code",
   "execution_count": null,
   "id": "fbe8977a-27d8-47f6-9419-97761564de4c",
   "metadata": {},
   "outputs": [],
   "source": [
    "overall_mean = merged_df['Cost'].mean()\n",
    "merged_df['Cost'] = merged_df['Cost'].fillna(overall_mean)\n",
    "merged_df.info()"
   ]
  },
  {
   "cell_type": "markdown",
   "id": "a147a899-cf47-44e0-b280-c08ec82afd6f",
   "metadata": {
    "scrolled": true
   },
   "source": [
    "## Quantity Column"
   ]
  },
  {
   "cell_type": "code",
   "execution_count": null,
   "id": "a9bad934-836b-4fb0-864a-6d3d34609631",
   "metadata": {},
   "outputs": [],
   "source": [
    "df2 = pd.read_csv(\"Datasets/datafile (2).csv\")"
   ]
  },
  {
   "cell_type": "code",
   "execution_count": null,
   "id": "5fd47aee-5094-43dc-978a-85af4901ffb4",
   "metadata": {},
   "outputs": [],
   "source": [
    "df2.head()"
   ]
  },
  {
   "cell_type": "code",
   "execution_count": null,
   "id": "b71df187-fd32-401b-b9b2-389800634c17",
   "metadata": {},
   "outputs": [],
   "source": [
    "df2[\"Avg_Area\"] = df2[[\"Area 2006-07\", \"Area 2007-08\", \"Area 2008-09\", \"Area 2009-10\", \"Area 2010-11\"]].mean(axis=1)"
   ]
  },
  {
   "cell_type": "code",
   "execution_count": null,
   "id": "49f39e13-a28c-44a8-86c6-a86d11144c18",
   "metadata": {},
   "outputs": [],
   "source": [
    "df2.head()"
   ]
  },
  {
   "cell_type": "code",
   "execution_count": null,
   "id": "f3bd8f30-6710-456a-a8c5-3df1f5687405",
   "metadata": {},
   "outputs": [],
   "source": [
    "df2['Crop'].unique()"
   ]
  },
  {
   "cell_type": "code",
   "execution_count": null,
   "id": "98d8e644-50dc-4695-8e52-b8eab14a56ea",
   "metadata": {},
   "outputs": [],
   "source": [
    "# Making the 'Quantity' Column\n",
    "merged_df = pd.merge(merged_df, df2[['Crop', 'Avg_Area']], on='Crop', how='left') \n",
    "merged_df.rename(columns={'Avg_Area': 'Quantity'}, inplace=True)"
   ]
  },
  {
   "cell_type": "code",
   "execution_count": null,
   "id": "72aaa4e6-2c04-421e-ab33-367292144dbd",
   "metadata": {},
   "outputs": [],
   "source": [
    "merged_df.head()"
   ]
  },
  {
   "cell_type": "code",
   "execution_count": null,
   "id": "8496415c-9f2f-48ce-ab59-021cafa3083f",
   "metadata": {},
   "outputs": [],
   "source": [
    "merged_df.info()"
   ]
  },
  {
   "cell_type": "code",
   "execution_count": null,
   "id": "b34d8acb-86e7-4837-874c-45fcd1a0f69e",
   "metadata": {},
   "outputs": [],
   "source": [
    "#"
   ]
  },
  {
   "cell_type": "code",
   "execution_count": null,
   "id": "9b681839-ea7f-43e5-912f-e04c6e9a8235",
   "metadata": {},
   "outputs": [],
   "source": []
  },
  {
   "cell_type": "markdown",
   "id": "fb753f51-27ce-4a57-bfa2-c95069b2edda",
   "metadata": {},
   "source": [
    "## Production/Duration"
   ]
  },
  {
   "cell_type": "code",
   "execution_count": null,
   "id": "43f156f6-be35-450e-b27e-f16cc85b18a1",
   "metadata": {},
   "outputs": [],
   "source": [
    "df2[\"Total_Production\"] = df2[[\"Production 2006-07\", \"Production 2007-08\", \"Production 2008-09\", \"Production 2009-10\", \"Production 2010-11\"]].sum(axis=1)"
   ]
  },
  {
   "cell_type": "code",
   "execution_count": null,
   "id": "7d5bc8ae-67b7-4436-b362-46e5a191c6a9",
   "metadata": {},
   "outputs": [],
   "source": [
    "df2[\"Predicted_Production\"] = df2[\"Total_Production\"] * (merged_df[\"Duration in days\"] / 365)\n",
    "# Making the 'Quantity' Column\n",
    "merged_df = pd.merge(merged_df, df2[['Crop', \"Predicted_Production\"]], on='Crop', how='left') \n",
    "#merged_df.rename(columns={\"Predicted_Production\": 'Quantity'}, inplace=True)"
   ]
  },
  {
   "cell_type": "code",
   "execution_count": null,
   "id": "cd4667fc-880a-4f58-a77e-01eb20fddec1",
   "metadata": {},
   "outputs": [],
   "source": [
    "merged_df.head()"
   ]
  },
  {
   "cell_type": "code",
   "execution_count": null,
   "id": "556b19b1-ca4d-4fd2-8f70-fa5dc4e6eb67",
   "metadata": {
    "scrolled": true
   },
   "outputs": [],
   "source": [
    "merged_df.info()"
   ]
  },
  {
   "cell_type": "code",
   "execution_count": null,
   "id": "12f683e6-d092-4380-a7bf-14b2f45ffae6",
   "metadata": {},
   "outputs": [],
   "source": [
    "Production_mean = merged_df['Predicted_Production'].mean()\n",
    "merged_df['Predicted_Production'] = merged_df['Predicted_Production'].fillna(Production_mean)\n",
    "merged_df.info()"
   ]
  },
  {
   "cell_type": "code",
   "execution_count": null,
   "id": "5fb8ee88-e038-4a9b-ad6a-822f26197f93",
   "metadata": {},
   "outputs": [],
   "source": [
    "merged_df.to_csv('Final_df.csv', index=False)"
   ]
  },
  {
   "cell_type": "code",
   "execution_count": null,
   "id": "67007f38-3736-4102-af47-fcaa79544a34",
   "metadata": {},
   "outputs": [],
   "source": []
  },
  {
   "cell_type": "code",
   "execution_count": null,
   "id": "2928fd89-32a2-47e2-8e06-37e7ca02a203",
   "metadata": {},
   "outputs": [],
   "source": []
  },
  {
   "cell_type": "code",
   "execution_count": null,
   "id": "5f376ae9-3ab5-4851-82f4-e0c9bf98b7f7",
   "metadata": {},
   "outputs": [],
   "source": []
  },
  {
   "cell_type": "code",
   "execution_count": null,
   "id": "f10c7e7f-be2a-4ceb-9471-8ef4ad2ad104",
   "metadata": {},
   "outputs": [],
   "source": []
  }
 ],
 "metadata": {
  "kernelspec": {
   "display_name": "Python 3 (ipykernel)",
   "language": "python",
   "name": "python3"
  },
  "language_info": {
   "codemirror_mode": {
    "name": "ipython",
    "version": 3
   },
   "file_extension": ".py",
   "mimetype": "text/x-python",
   "name": "python",
   "nbconvert_exporter": "python",
   "pygments_lexer": "ipython3",
   "version": "3.12.4"
  }
 },
 "nbformat": 4,
 "nbformat_minor": 5
}
