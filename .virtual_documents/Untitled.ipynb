import numpy as np
import pandas as pd

df1 = pd.read_csv("datafile (1).csv")
df2 = pd.read_csv("datafile (2).csv")
df3 = pd.read_csv("datafile (3).csv")
df4 = pd.read_csv("datafile.csv")
df5 = pd.read_csv("produce.csv")







